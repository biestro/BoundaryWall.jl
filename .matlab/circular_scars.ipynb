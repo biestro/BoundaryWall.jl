{
 "cells": [
  {
   "cell_type": "code",
   "execution_count": 5,
   "id": "7ce8dd21-938a-4a7d-9951-7398fbe457a6",
   "metadata": {},
   "outputs": [
    {
     "name": "stdout",
     "output_type": "stream",
     "text": [
      "\u001b[?2004l\n",
      "error: graphics_toolkit: qt toolkit is not available\n",
      "error: called from\n",
      "    graphics_toolkit at line 84 column 5\n",
      "\u001b[?2004h"
     ]
    }
   ],
   "source": [
    "graphics_toolkit (\"qt\");"
   ]
  },
  {
   "cell_type": "code",
   "execution_count": 4,
   "id": "6e684811-d66d-45f1-9816-d17cab729792",
   "metadata": {},
   "outputs": [
    {
     "name": "stdout",
     "output_type": "stream",
     "text": [
      "\u001b[?2004l\n",
      "\u001b[?2004h"
     ]
    },
    {
     "data": {
      "image/png": "[encoded data removed]",
      "text/plain": [
       "<IPython.core.display.Image object>"
      ]
     },
     "metadata": {},
     "output_type": "display_data"
    }
   ],
   "source": [
    "plot(xdom, ydom)"
   ]
  },
  {
   "cell_type": "code",
   "execution_count": 1,
   "id": "c3d44df5-5639-4cf3-b400-8779097885a0",
   "metadata": {},
   "outputs": [
    {
     "name": "stdout",
     "output_type": "stream",
     "text": [
      "\u001b[?2004l\n",
      "\n",
      "\n",
      "\n",
      "\u001b[?2004h\n",
      "\u001b[?2004l\n",
      "\n",
      "\n",
      "\n",
      "\u001b[?2004h\n",
      "\u001b[?2004l\n",
      "\n",
      "\n",
      "\n",
      "\u001b[?2004h\n",
      "\u001b[?2004l\n",
      "\u001b[?2004h\u001b[?2004l\n",
      "\u001b[?2004h\u001b[?2004l\n",
      "\u001b[?2004h\u001b[?2004l\n",
      "\u001b[?2004h\u001b[?2004l\n",
      "error: 'cart2par' undefined near line 1, column 12\n",
      "\u001b[?2004h\u001b[?2004l\n",
      "\u001b[?2004h\u001b[?2004l\n",
      "\u001b[?2004h\u001b[?2004l\n",
      "\u001b[?2004h\u001b[?2004l\n",
      "error: 'createParabolicBilliard' undefined near line 1, column 15\n",
      "\u001b[?2004h"
     ]
    }
   ],
   "source": [
    "ydom = linspace(-6.5,6.5,130);\n",
    "xdom = linspace(-3,5,130);\n",
    "\n",
    "\n",
    "\n",
    "[X,Y] = meshgrid(xdom,ydom);\n",
    "[XI,ETA] = cart2par(X,Y);\n",
    "\n",
    "%%   CONFOCAL BOUNDARY\n",
    "xi0 = 3.0; eta0 = 2.0;\n",
    "[x,y,xm,ym] = createParabolicBilliard(xi0, eta0, 400);"
   ]
  },
  {
   "cell_type": "code",
   "execution_count": null,
   "id": "e9fb1020-1274-467b-9270-d7de6cc07011",
   "metadata": {},
   "outputs": [],
   "source": []
  }
 ],
 "metadata": {
  "kernelspec": {
   "display_name": "Octave",
   "language": "octave",
   "name": "octave"
  },
  "language_info": {
   "file_extension": ".m",
   "help_links": [
    {
     "text": "GNU Octave",
     "url": "https://www.gnu.org/software/octave/support.html"
    },
    {
     "text": "Octave Kernel",
     "url": "https://github.com/Calysto/octave_kernel"
    },
    {
     "text": "MetaKernel Magics",
     "url": "https://metakernel.readthedocs.io/en/latest/source/README.html"
    }
   ],
   "mimetype": "text/x-octave",
   "name": "octave",
   "version": "8.3.0"
  }
 },
 "nbformat": 4,
 "nbformat_minor": 5
}
